{
 "cells": [
  {
   "cell_type": "code",
   "execution_count": 1,
   "id": "3e83a68f",
   "metadata": {},
   "outputs": [],
   "source": [
    "# Libraries\n",
    "import json\n",
    "import pandas as pd\n",
    "import numpy as np\n",
    "from PIL import Image\n",
    "\n",
    "import matplotlib.pyplot as plt\n",
    "import matplotlib.patches as patches\n",
    "\n",
    "\n",
    "import warnings\n",
    "warnings.filterwarnings('ignore')\n",
    "\n",
    "# dir(json)"
   ]
  },
  {
   "cell_type": "code",
   "execution_count": 2,
   "id": "810d3275",
   "metadata": {},
   "outputs": [
    {
     "data": {
      "text/html": [
       "<div>\n",
       "<style scoped>\n",
       "    .dataframe tbody tr th:only-of-type {\n",
       "        vertical-align: middle;\n",
       "    }\n",
       "\n",
       "    .dataframe tbody tr th {\n",
       "        vertical-align: top;\n",
       "    }\n",
       "\n",
       "    .dataframe thead th {\n",
       "        text-align: right;\n",
       "    }\n",
       "</style>\n",
       "<table border=\"1\" class=\"dataframe\">\n",
       "  <thead>\n",
       "    <tr style=\"text-align: right;\">\n",
       "      <th></th>\n",
       "      <th>Unnamed: 0</th>\n",
       "      <th>image_id</th>\n",
       "      <th>PredictionString</th>\n",
       "    </tr>\n",
       "  </thead>\n",
       "  <tbody>\n",
       "    <tr>\n",
       "      <th>0</th>\n",
       "      <td>0</td>\n",
       "      <td>img_test.jpg</td>\n",
       "      <td>0.5112 0 984 55 39 0.5112 0 943 111 80 0.5112 ...</td>\n",
       "    </tr>\n",
       "  </tbody>\n",
       "</table>\n",
       "</div>"
      ],
      "text/plain": [
       "   Unnamed: 0      image_id                                   PredictionString\n",
       "0           0  img_test.jpg  0.5112 0 984 55 39 0.5112 0 943 111 80 0.5112 ..."
      ]
     },
     "execution_count": 2,
     "metadata": {},
     "output_type": "execute_result"
    }
   ],
   "source": [
    "dir = './submission.csv'\n",
    "df = pd.read_csv(dir)\n",
    "df"
   ]
  },
  {
   "cell_type": "code",
   "execution_count": null,
   "id": "d3ae8080",
   "metadata": {},
   "outputs": [],
   "source": [
    "def get_all_bboxes(df, path):\n",
    "    image_bboxes = df[df.path == path]\n",
    "    \n",
    "    bboxes = []\n",
    "    for _,row in image_bboxes.iterrows():\n",
    "        bboxes.append((row.x, row.y, row.w, row.h))\n",
    "        \n",
    "    return bboxes\n",
    "\n",
    "def plot_image_examples(df, rows=2, cols=2, title='Image examples'):\n",
    "    fig, axs = plt.subplots(rows, cols, figsize=(30,30))\n",
    "    for row in range(rows):\n",
    "        for col in range(cols):\n",
    "            idx = np.random.randint(len(df), size=1)[0]\n",
    "            \n",
    "            path = df.iloc[idx].path\n",
    "            # path gonna be './images/GH110385/GH110385.MP4#t=9.jpg'\n",
    "            \n",
    "            folder = path.split('/')[2].strip()\n",
    "            file_name = path.split('/')[3].strip()\n",
    "            img = Image.open(dir_img + '/' + folder + '/' + file_name)\n",
    "            \n",
    "            axs[row, col].imshow(img)\n",
    "            \n",
    "            bboxes = get_all_bboxes(df, path)\n",
    "            \n",
    "            for bbox in bboxes:\n",
    "                rect = patches.Rectangle((bbox[0],bbox[1]),bbox[2],bbox[3],linewidth=1,edgecolor='r',facecolor='none')\n",
    "                axs[row, col].add_patch(rect)\n",
    "            \n",
    "            axs[row, col].axis('off')\n",
    "            \n",
    "    plt.suptitle(title)"
   ]
  },
  {
   "cell_type": "code",
   "execution_count": null,
   "id": "f0c7cc59",
   "metadata": {},
   "outputs": [],
   "source": []
  },
  {
   "cell_type": "code",
   "execution_count": null,
   "id": "deb1fc67",
   "metadata": {},
   "outputs": [],
   "source": []
  },
  {
   "cell_type": "code",
   "execution_count": null,
   "id": "4a222079",
   "metadata": {},
   "outputs": [],
   "source": []
  },
  {
   "cell_type": "code",
   "execution_count": null,
   "id": "eb895429",
   "metadata": {},
   "outputs": [],
   "source": []
  },
  {
   "cell_type": "code",
   "execution_count": null,
   "id": "dfb822b0",
   "metadata": {},
   "outputs": [],
   "source": []
  }
 ],
 "metadata": {
  "kernelspec": {
   "display_name": "Python [conda env:skku]",
   "language": "python",
   "name": "conda-env-skku-py"
  },
  "language_info": {
   "codemirror_mode": {
    "name": "ipython",
    "version": 3
   },
   "file_extension": ".py",
   "mimetype": "text/x-python",
   "name": "python",
   "nbconvert_exporter": "python",
   "pygments_lexer": "ipython3",
   "version": "3.9.7"
  }
 },
 "nbformat": 4,
 "nbformat_minor": 5
}
